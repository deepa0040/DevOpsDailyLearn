{
 "cells": [
  {
   "cell_type": "markdown",
   "id": "65aa470f",
   "metadata": {},
   "source": [
    "# Python Basic\n",
    "Python basics you should know:\n",
    "\n",
    "* **Variables & Data Types:** Store information (numbers, text, booleans, lists, dictionaries).\n",
    "* **Operators:** Perform actions on data (+, -, \\*, /, ==, >, <, etc.).\n",
    "* **Control Flow:** Make decisions (if/elif/else) and repeat actions (for/while loops).\n",
    "* **Functions:** Reusable blocks of code to perform specific tasks.\n",
    "* **Modules:** Extend functionality by importing pre-written code (e.g., `math`, `os`).\n",
    "* **Basic Syntax:** Indentation defines code blocks; readability is key."
   ]
  },
  {
   "cell_type": "code",
   "execution_count": 18,
   "id": "b2318e38",
   "metadata": {},
   "outputs": [
    {
     "name": "stdout",
     "output_type": "stream",
     "text": [
      "Name: Alice, Age: 30, Price: 99.99, Is student: False\n",
      "Type of name: <class 'str'>\n",
      "Type of age: <class 'int'>\n",
      "Type of price: <class 'float'>\n",
      "Type of is_student: <class 'bool'>\n",
      "Alice 30 99.99 False\n"
     ]
    }
   ],
   "source": [
    "# ## 1. Variables and Data Types\n",
    "\n",
    "# Variables are used to store data. You assign values to variables using the `=` operator.\n",
    "\n",
    "name = \"Alice\"\n",
    "age = 30\n",
    "price = 99.99\n",
    "is_student = False\n",
    "\n",
    "print(f\"Name: {name}, Age: {age}, Price: {price}, Is student: {is_student}\")\n",
    "\n",
    "# Python automatically infers the data type of a variable based on the value assigned to it.\n",
    "print(f\"Type of name: {type(name)}\")\n",
    "print(f\"Type of age: {type(age)}\")\n",
    "print(f\"Type of price: {type(price)}\")\n",
    "print(f\"Type of is_student: {type(is_student)}\")\n",
    "\n",
    "# OR\n",
    "print (name,age,price,is_student)"
   ]
  },
  {
   "cell_type": "code",
   "execution_count": 19,
   "id": "d619f5b8",
   "metadata": {},
   "outputs": [
    {
     "name": "stdout",
     "output_type": "stream",
     "text": [
      "Hello, world!\n",
      "Python is fun!\n",
      "Type of greeting: <class 'str'>\n",
      "Count: 10, Negative: -5, Zero: 0\n",
      "Type of count: <class 'int'>\n",
      "Pi: 3.14159, Temperature: -0.01\n",
      "Type of pi: <class 'float'>\n",
      "Is valid: True, Has permission: False\n",
      "Type of is_valid: <class 'bool'>\n",
      "My list: [1, 2, 'apple', 3.14]\n",
      "Type of my_list: <class 'list'>\n",
      "My tuple: (1, 2, 'apple')\n",
      "Type of my_tuple: <class 'tuple'>\n",
      "My dictionary: {'name': 'Bob', 'age': 25, 'city': 'New York'}\n",
      "Type of my_dict: <class 'dict'>\n",
      "My set: {1, 2, 3, 4, 5}\n",
      "Type of my_set: <class 'set'>\n"
     ]
    }
   ],
   "source": [
    "# ### Key Basic Data Types:\n",
    "\n",
    "# * **`str` (String):** Represents text, enclosed in single or double quotes.\n",
    "greeting = \"Hello, world!\"\n",
    "another_greeting = 'Python is fun!'\n",
    "print(greeting)\n",
    "print(another_greeting)\n",
    "print(f\"Type of greeting: {type(greeting)}\")\n",
    "\n",
    "# * **`int` (Integer):** Represents whole numbers (positive, negative, or zero).\n",
    "count = 10\n",
    "negative_number = -5\n",
    "zero = 0\n",
    "print(f\"Count: {count}, Negative: {negative_number}, Zero: {zero}\")\n",
    "print(f\"Type of count: {type(count)}\")\n",
    "\n",
    "# * **`float` (Floating-point number):** Represents decimal numbers.\n",
    "pi = 3.14159\n",
    "temperature = -0.01\n",
    "print(f\"Pi: {pi}, Temperature: {temperature}\")\n",
    "print(f\"Type of pi: {type(pi)}\")\n",
    "\n",
    "# * **`bool` (Boolean):** Represents truth values: `True` or `False`.\n",
    "is_valid = True\n",
    "has_permission = False\n",
    "print(f\"Is valid: {is_valid}, Has permission: {has_permission}\")\n",
    "print(f\"Type of is_valid: {type(is_valid)}\")\n",
    "\n",
    "# * **`list`:** An ordered, mutable (changeable) sequence of items. Items can be of different types.\n",
    "my_list = [1, 2, \"apple\", 3.14]\n",
    "print(f\"My list: {my_list}\")\n",
    "print(f\"Type of my_list: {type(my_list)}\")\n",
    "\n",
    "# * **`tuple`:** An ordered, immutable (unchangeable) sequence of items.\n",
    "my_tuple = (1, 2, \"apple\")\n",
    "print(f\"My tuple: {my_tuple}\")\n",
    "print(f\"Type of my_tuple: {type(my_tuple)}\")\n",
    "\n",
    "# * **`dict` (Dictionary):** An unordered collection of key-value pairs. Keys must be unique and immutable.\n",
    "my_dict = {\"name\": \"Bob\", \"age\": 25, \"city\": \"New York\"}\n",
    "print(f\"My dictionary: {my_dict}\")\n",
    "print(f\"Type of my_dict: {type(my_dict)}\")\n",
    "\n",
    "# * **`set`:** An unordered collection of unique items. Duplicate elements are automatically removed.\n",
    "my_set = {1, 2, 2, 3, 4, 4, 5}\n",
    "print(f\"My set: {my_set}\")\n",
    "print(f\"Type of my_set: {type(my_set)}\")"
   ]
  },
  {
   "cell_type": "code",
   "execution_count": 20,
   "id": "d5fe36b6",
   "metadata": {},
   "outputs": [
    {
     "name": "stdout",
     "output_type": "stream",
     "text": [
      "\n",
      "### Arithmetic Operators:\n",
      "a = 10, b = 3\n",
      "a + b = 13 (Addition)\n",
      "a - b = 7 (Subtraction)\n",
      "a * b = 30 (Multiplication)\n",
      "a / b = 3.3333333333333335 (Division)\n",
      "a // b = 3 (Floor Division - integer result)\n",
      "a % b = 1 (Modulo - remainder)\n",
      "a ** b = 1000 (Exponentiation)\n"
     ]
    }
   ],
   "source": [
    "# ## 2. Operators\n",
    "\n",
    "# Operators are symbols that perform operations on values (operands).\n",
    "\n",
    "# ### Arithmetic Operators:\n",
    "print(\"\\n### Arithmetic Operators:\")\n",
    "a = 10\n",
    "b = 3\n",
    "\n",
    "print(f\"a = {a}, b = {b}\")\n",
    "print(f\"a + b = {a + b} (Addition)\")\n",
    "print(f\"a - b = {a - b} (Subtraction)\")\n",
    "print(f\"a * b = {a * b} (Multiplication)\")\n",
    "print(f\"a / b = {a / b} (Division)\")\n",
    "print(f\"a // b = {a // b} (Floor Division - integer result)\")\n",
    "print(f\"a % b = {a % b} (Modulo - remainder)\")\n",
    "print(f\"a ** b = {a ** b} (Exponentiation)\")\n"
   ]
  },
  {
   "cell_type": "code",
   "execution_count": 21,
   "id": "baa00b90",
   "metadata": {},
   "outputs": [
    {
     "name": "stdout",
     "output_type": "stream",
     "text": [
      "\n",
      "### Comparison Operators:\n",
      "x = 5, y = 8\n",
      "x == y: False (Equal to)\n",
      "x != y: True (Not equal to)\n",
      "x > y: False (Greater than)\n",
      "x < y: True (Less than)\n",
      "x >= y: False (Greater than or equal to)\n",
      "x <= y: True (Less than or equal to)\n"
     ]
    }
   ],
   "source": [
    "# ### Comparison Operators:\n",
    "print(\"\\n### Comparison Operators:\")\n",
    "x = 5\n",
    "y = 8\n",
    "\n",
    "print(f\"x = {x}, y = {y}\")\n",
    "print(f\"x == y: {x == y} (Equal to)\")\n",
    "print(f\"x != y: {x != y} (Not equal to)\")\n",
    "print(f\"x > y: {x > y} (Greater than)\")\n",
    "print(f\"x < y: {x < y} (Less than)\")\n",
    "print(f\"x >= y: {x >= y} (Greater than or equal to)\")\n",
    "print(f\"x <= y: {x <= y} (Less than or equal to)\")"
   ]
  },
  {
   "cell_type": "code",
   "execution_count": 22,
   "id": "352cc2c7",
   "metadata": {},
   "outputs": [
    {
     "name": "stdout",
     "output_type": "stream",
     "text": [
      "\n",
      "### Logical Operators:\n",
      "p = True, q = False\n",
      "p and q: False (True if both p and q are True)\n",
      "p or q: True (True if at least one of p or q is True)\n",
      "not p: False (True if p is False)\n"
     ]
    }
   ],
   "source": [
    "\n",
    "# ### Logical Operators:\n",
    "print(\"\\n### Logical Operators:\")\n",
    "p = True\n",
    "q = False\n",
    "\n",
    "print(f\"p = {p}, q = {q}\")\n",
    "print(f\"p and q: {p and q} (True if both p and q are True)\")\n",
    "print(f\"p or q: {p or q} (True if at least one of p or q is True)\")\n",
    "print(f\"not p: {not p} (True if p is False)\")\n"
   ]
  },
  {
   "cell_type": "code",
   "execution_count": 23,
   "id": "d085dace",
   "metadata": {},
   "outputs": [
    {
     "name": "stdout",
     "output_type": "stream",
     "text": [
      "\n",
      "### Assignment Operators:\n",
      "Initial counter: 0\n",
      "counter += 1: 1\n",
      "counter -= 2: -1\n",
      "counter *= 3: -3\n"
     ]
    }
   ],
   "source": [
    "# ### Assignment Operators:\n",
    "print(\"\\n### Assignment Operators:\")\n",
    "counter = 0\n",
    "print(f\"Initial counter: {counter}\")\n",
    "\n",
    "counter += 1  # Equivalent to counter = counter + 1\n",
    "print(f\"counter += 1: {counter}\")\n",
    "\n",
    "counter -= 2  # Equivalent to counter = counter - 2\n",
    "print(f\"counter -= 2: {counter}\")\n",
    "\n",
    "counter *= 3  # Equivalent to counter = counter * 3\n",
    "print(f\"counter *= 3: {counter}\")\n"
   ]
  },
  {
   "cell_type": "code",
   "execution_count": 24,
   "id": "04e18c55",
   "metadata": {},
   "outputs": [
    {
     "name": "stdout",
     "output_type": "stream",
     "text": [
      "\n",
      "### if, elif, else Statements:\n",
      "You are an adult.\n",
      "\n",
      "### for Loop:\n",
      "I like apple\n",
      "I like banana\n",
      "I like cherry\n",
      "Iteration: 0\n",
      "Iteration: 1\n",
      "Iteration: 2\n",
      "Iteration: 3\n",
      "Iteration: 4\n",
      "\n",
      "### while Loop:\n",
      "Current count: 0\n",
      "Current count: 1\n",
      "Current count: 2\n",
      "Current count: 3\n",
      "Current count: 4\n",
      "\n",
      "### break and continue Statements:\n",
      "Loop with break: 0\n",
      "Loop with break: 1\n",
      "Loop with break: 2\n",
      "Loop with break: 3\n",
      "Loop with break: 4\n",
      "Loop with continue: 0\n",
      "Loop with continue: 1\n",
      "Loop with continue: 3\n",
      "Loop with continue: 4\n"
     ]
    }
   ],
   "source": [
    "# ## 3. Control Flow\n",
    "\n",
    "# Control flow statements determine the order in which code is executed.\n",
    "\n",
    "# ### `if`, `elif`, `else` Statements:\n",
    "print(\"\\n### if, elif, else Statements:\")\n",
    "user_age = 20\n",
    "\n",
    "if user_age >= 18:\n",
    "    print(\"You are an adult.\")\n",
    "elif user_age >= 13:\n",
    "    print(\"You are a teenager.\")\n",
    "else:\n",
    "    print(\"You are a child.\")\n",
    "\n",
    "# You can have multiple `elif` statements or none, and an optional `else` block.\n",
    "\n",
    "# ### `for` Loop:\n",
    "print(\"\\n### for Loop:\")\n",
    "fruits = [\"apple\", \"banana\", \"cherry\"]\n",
    "for fruit in fruits:\n",
    "    print(f\"I like {fruit}\")\n",
    "\n",
    "# `for` loops are often used with the `range()` function to iterate a specific number of times.\n",
    "for i in range(5):  # Generates numbers from 0 to 4\n",
    "    print(f\"Iteration: {i}\")\n",
    "\n",
    "# ### `while` Loop:\n",
    "print(\"\\n### while Loop:\")\n",
    "count = 0\n",
    "while count < 5:\n",
    "    print(f\"Current count: {count}\")\n",
    "    count += 1\n",
    "\n",
    "# **Caution:** Make sure the condition in a `while` loop eventually becomes `False` to avoid infinite loops!\n",
    "\n",
    "# ### `break` and `continue` Statements:\n",
    "print(\"\\n### break and continue Statements:\")\n",
    "\n",
    "# `break` exits the loop prematurely.\n",
    "for i in range(10):\n",
    "    if i == 5:\n",
    "        break\n",
    "    print(f\"Loop with break: {i}\")\n",
    "\n",
    "# `continue` skips the rest of the current iteration and moves to the next.\n",
    "for i in range(5):\n",
    "    if i == 2:\n",
    "        continue\n",
    "    print(f\"Loop with continue: {i}\")"
   ]
  },
  {
   "cell_type": "code",
   "execution_count": 25,
   "id": "550b8da2",
   "metadata": {},
   "outputs": [
    {
     "name": "stdout",
     "output_type": "stream",
     "text": [
      "\n",
      "### Defining Functions:\n",
      "Hello, Charlie!\n",
      "Hello, Eve!\n"
     ]
    }
   ],
   "source": [
    "# ## 4. Functions\n",
    "\n",
    "# Functions are reusable blocks of code that perform specific tasks. They help organize your code and make it more readable.\n",
    "\n",
    "# ### Defining Functions:\n",
    "print(\"\\n### Defining Functions:\")\n",
    "def greet(name):\n",
    "    \"\"\"This function greets the person passed in as a parameter.\"\"\"\n",
    "    print(f\"Hello, {name}!\")\n",
    "\n",
    "greet(\"Charlie\")\n",
    "greet(\"Eve\")"
   ]
  },
  {
   "cell_type": "code",
   "execution_count": 26,
   "id": "2f433f48",
   "metadata": {},
   "outputs": [
    {
     "name": "stdout",
     "output_type": "stream",
     "text": [
      "\n",
      "### Parameters and Arguments:\n",
      "\n",
      "I have a hamster named Harry.\n",
      "\n",
      "I have a dog named Lucy.\n"
     ]
    }
   ],
   "source": [
    "# ### Parameters and Arguments:\n",
    "print(\"\\n### Parameters and Arguments:\")\n",
    "def describe_pet(animal_type, pet_name):\n",
    "    \"\"\"Describes a pet.\"\"\"\n",
    "    print(f\"\\nI have a {animal_type} named {pet_name}.\")\n",
    "\n",
    "describe_pet(\"hamster\", \"Harry\")\n",
    "describe_pet(pet_name=\"Lucy\", animal_type=\"dog\")  # Keyword arguments"
   ]
  },
  {
   "cell_type": "code",
   "execution_count": 27,
   "id": "7a711ba0",
   "metadata": {},
   "outputs": [
    {
     "name": "stdout",
     "output_type": "stream",
     "text": [
      "\n",
      "### Returning Values:\n",
      "The sum is: 10\n",
      "The square is: 25\n"
     ]
    }
   ],
   "source": [
    "# ### Returning Values:\n",
    "print(\"\\n### Returning Values:\")\n",
    "def add(a, b):\n",
    "    \"\"\"This function returns the sum of two numbers.\"\"\"\n",
    "    return a + b\n",
    "\n",
    "sum_result = add(3, 7)\n",
    "print(f\"The sum is: {sum_result}\")\n",
    "\n",
    "def square(number):\n",
    "    \"\"\"Returns the square of a number.\"\"\"\n",
    "    return number ** 2\n",
    "\n",
    "squared_value = square(5)\n",
    "print(f\"The square is: {squared_value}\")"
   ]
  },
  {
   "cell_type": "code",
   "execution_count": 30,
   "id": "fe5095ca",
   "metadata": {},
   "outputs": [
    {
     "name": "stdout",
     "output_type": "stream",
     "text": [
      "\n",
      "### Importing Modules:\n",
      "The square root of 16 is: 4.0\n",
      "Pi: 3.141592653589793\n",
      "A random integer between 1 and 10: 3\n",
      "Current date and time: 2025-04-10 04:33:52.575387\n"
     ]
    },
    {
     "name": "stderr",
     "output_type": "stream",
     "text": [
      "/root/Personal-Github/DevOpsDailyLearn/.venv/lib/python3.12/site-packages/numpy/_core/getlimits.py:551: UserWarning: Signature b'\\x00\\xd0\\xcc\\xcc\\xcc\\xcc\\xcc\\xcc\\xfb\\xbf\\x00\\x00\\x00\\x00\\x00\\x00' for <class 'numpy.longdouble'> does not match any known type: falling back to type probe function.\n",
      "This warnings indicates broken support for the dtype!\n",
      "  machar = _get_machar(dtype)\n"
     ]
    },
    {
     "name": "stdout",
     "output_type": "stream",
     "text": [
      "Pandas module imported as pd.\n"
     ]
    }
   ],
   "source": [
    "# ## 5. Modules\n",
    "\n",
    "# Modules are files containing Python definitions and statements. They allow you to organize your code and reuse code written by others.\n",
    "\n",
    "# ### Importing Modules:\n",
    "print(\"\\n### Importing Modules:\")\n",
    "\n",
    "# The `math` module provides mathematical functions.\n",
    "import math\n",
    "print(f\"The square root of 16 is: {math.sqrt(16)}\")\n",
    "print(f\"Pi: {math.pi}\")\n",
    "\n",
    "# The `random` module provides functions for generating random numbers.\n",
    "import random\n",
    "print(f\"A random integer between 1 and 10: {random.randint(1, 10)}\")\n",
    "\n",
    "# You can import specific functions from a module using `from ... import ...`.\n",
    "from datetime import datetime\n",
    "current_time = datetime.now()\n",
    "print(f\"Current date and time: {current_time}\")\n",
    "\n",
    "# You can also import a module with an alias using `import ... as ...`.\n",
    "import pandas as pd\n",
    "# (We'll use pandas more in the data analytics section)\n",
    "print(f\"Pandas module imported as pd.\")\n",
    "\n",
    "# ### Using Module Functions:\n",
    "# Once a module is imported, you can access its functions and constants using the dot notation (`module_name.function_name`).\n",
    "\n"
   ]
  },
  {
   "cell_type": "markdown",
   "id": "a0bda73b",
   "metadata": {},
   "source": [
    "## Next Steps:\n",
    "\n",
    "Congratulations! You've covered the basic building blocks of Python. To solidify your understanding, try writing more small programs that use these concepts.\n",
    "\n",
    "The next step in your learning journey will be to dive deeper into **Data Structures** in Python, which will provide you with more powerful ways to organize and manipulate data. Stay tuned for the next notebook!"
   ]
  }
 ],
 "metadata": {
  "kernelspec": {
   "display_name": ".venv",
   "language": "python",
   "name": "python3"
  },
  "language_info": {
   "codemirror_mode": {
    "name": "ipython",
    "version": 3
   },
   "file_extension": ".py",
   "mimetype": "text/x-python",
   "name": "python",
   "nbconvert_exporter": "python",
   "pygments_lexer": "ipython3",
   "version": "3.12.3"
  }
 },
 "nbformat": 4,
 "nbformat_minor": 5
}
