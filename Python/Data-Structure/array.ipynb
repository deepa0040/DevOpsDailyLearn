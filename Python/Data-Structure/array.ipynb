{
 "cells": [
  {
   "cell_type": "markdown",
   "id": "e88f2f08",
   "metadata": {},
   "source": [
    "### We are going to cover below points\n",
    "* Create an Array\n",
    "* Insert Element into Array\n",
    "* Update Element at Index\n",
    "* Delete Element from Array\n",
    "* Search for an Element in Array\n",
    "* Access Element by Index\n",
    "* Traverse/Iterate through an Array\n",
    "* Get the Size/Length of an Array\n",
    "* Reverse an Array\n",
    "* Sort an Array\n"
   ]
  },
  {
   "cell_type": "code",
   "execution_count": null,
   "id": "0566abe5",
   "metadata": {},
   "outputs": [
    {
     "name": "stdout",
     "output_type": "stream",
     "text": [
      "My array:  []\n",
      "0\n",
      "0\n"
     ]
    },
    {
     "ename": "IndexError",
     "evalue": "list assignment index out of range",
     "output_type": "error",
     "traceback": [
      "\u001b[31m---------------------------------------------------------------------------\u001b[39m",
      "\u001b[31mIndexError\u001b[39m                                Traceback (most recent call last)",
      "\u001b[36mCell\u001b[39m\u001b[36m \u001b[39m\u001b[32mIn[40]\u001b[39m\u001b[32m, line 33\u001b[39m\n\u001b[32m     31\u001b[39m \u001b[38;5;28mprint\u001b[39m (\u001b[38;5;28mlen\u001b[39m(my_array_instance.Array))\n\u001b[32m     32\u001b[39m array=[\u001b[32m1\u001b[39m,\u001b[32m2\u001b[39m,\u001b[32m3\u001b[39m]\n\u001b[32m---> \u001b[39m\u001b[32m33\u001b[39m \u001b[38;5;28mprint\u001b[39m (\u001b[33m\"\u001b[39m\u001b[33mArray: \u001b[39m\u001b[33m\"\u001b[39m, \u001b[43mmy_array_instance\u001b[49m\u001b[43m.\u001b[49m\u001b[43minsert\u001b[49m\u001b[43m(\u001b[49m\u001b[43m \u001b[49m\u001b[43marray\u001b[49m\u001b[43m,\u001b[49m\u001b[43m \u001b[49m\u001b[32;43m3\u001b[39;49m\u001b[43m,\u001b[49m\u001b[43m \u001b[49m\u001b[32;43m1\u001b[39;49m\u001b[43m)\u001b[49m)\n",
      "\u001b[36mCell\u001b[39m\u001b[36m \u001b[39m\u001b[32mIn[40]\u001b[39m\u001b[32m, line 17\u001b[39m, in \u001b[36mDS_Array.insert\u001b[39m\u001b[34m(self, array, index, value)\u001b[39m\n\u001b[32m     15\u001b[39m     new_array[i+\u001b[32m1\u001b[39m] = value\n\u001b[32m     16\u001b[39m \u001b[38;5;28;01melif\u001b[39;00m ( i < index ):\n\u001b[32m---> \u001b[39m\u001b[32m17\u001b[39m     \u001b[43mnew_array\u001b[49m\u001b[43m \u001b[49m\u001b[43m[\u001b[49m\u001b[43m \u001b[49m\u001b[43mi\u001b[49m\u001b[43m+\u001b[49m\u001b[32;43m1\u001b[39;49m\u001b[43m \u001b[49m\u001b[43m]\u001b[49m = array[ i+\u001b[32m1\u001b[39m ]\n\u001b[32m     18\u001b[39m \u001b[38;5;28;01melse\u001b[39;00m:\n\u001b[32m     19\u001b[39m     new_array [i+\u001b[32m1\u001b[39m] = array[i+\u001b[32m2\u001b[39m]\n",
      "\u001b[31mIndexError\u001b[39m: list assignment index out of range"
     ]
    }
   ],
   "source": [
    "# Create an Array\n",
    "\n",
    "class DS_Array:\n",
    "\n",
    "  def __init__ (self):\n",
    "    self.Array=[]    # Initialize empty array\n",
    "\n",
    "  def insert(self, array, index, value):\n",
    "\n",
    "\n",
    "\n",
    "\n",
    "\n",
    "\n",
    "\n",
    "my_array_instance=DS_Array()\n",
    "print (\"My array: \",my_array_instance.Array)\n",
    "print (len(my_array_instance.Array))\n",
    "array=[1,2,3]\n",
    "print (\"Array: \", my_array_instance.insert( array, 3, 1))"
   ]
  }
 ],
 "metadata": {
  "kernelspec": {
   "display_name": ".venv",
   "language": "python",
   "name": "python3"
  },
  "language_info": {
   "codemirror_mode": {
    "name": "ipython",
    "version": 3
   },
   "file_extension": ".py",
   "mimetype": "text/x-python",
   "name": "python",
   "nbconvert_exporter": "python",
   "pygments_lexer": "ipython3",
   "version": "3.12.3"
  }
 },
 "nbformat": 4,
 "nbformat_minor": 5
}
